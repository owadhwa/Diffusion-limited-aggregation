{
 "cells": [
  {
   "cell_type": "markdown",
   "id": "e69359c0",
   "metadata": {},
   "source": [
    "**Diffusion Limited Aggregation**"
   ]
  },
  {
   "cell_type": "markdown",
   "id": "e387de3a",
   "metadata": {},
   "source": [
    "*Diffusion-limited aggregation (DLA)* is a groeth proccess of clusters of aggregated particles driven by their random diffusion. There are two types of particles, but only one of them can move freely. The movable particles diffuse in a 2-D space by random walk, while the immovable particles do nothing; they remain where they are. If a movable particle \"collides\" with an immova "
   ]
  },
  {
   "cell_type": "code",
   "execution_count": 1,
   "id": "767b3b88",
   "metadata": {},
   "outputs": [
    {
     "name": "stderr",
     "output_type": "stream",
     "text": [
      "\n",
      "Bad key text.latex.preview in file C:\\Users\\Omika\\anaconda3\\lib\\site-packages\\matplotlib\\mpl-data\\stylelib\\_classic_test.mplstyle, line 123 ('text.latex.preview : False')\n",
      "You probably need to get an updated matplotlibrc file from\n",
      "https://github.com/matplotlib/matplotlib/blob/v3.5.0/matplotlibrc.template\n",
      "or from the matplotlib source distribution\n",
      "\n",
      "Bad key mathtext.fallback_to_cm in file C:\\Users\\Omika\\anaconda3\\lib\\site-packages\\matplotlib\\mpl-data\\stylelib\\_classic_test.mplstyle, line 155 ('mathtext.fallback_to_cm : True  # When True, use symbols from the Computer Modern')\n",
      "You probably need to get an updated matplotlibrc file from\n",
      "https://github.com/matplotlib/matplotlib/blob/v3.5.0/matplotlibrc.template\n",
      "or from the matplotlib source distribution\n",
      "\n",
      "Bad key savefig.jpeg_quality in file C:\\Users\\Omika\\anaconda3\\lib\\site-packages\\matplotlib\\mpl-data\\stylelib\\_classic_test.mplstyle, line 418 ('savefig.jpeg_quality: 95       # when a jpeg is saved, the default quality parameter.')\n",
      "You probably need to get an updated matplotlibrc file from\n",
      "https://github.com/matplotlib/matplotlib/blob/v3.5.0/matplotlibrc.template\n",
      "or from the matplotlib source distribution\n",
      "\n",
      "Bad key keymap.all_axes in file C:\\Users\\Omika\\anaconda3\\lib\\site-packages\\matplotlib\\mpl-data\\stylelib\\_classic_test.mplstyle, line 466 ('keymap.all_axes : a                 # enable all axes')\n",
      "You probably need to get an updated matplotlibrc file from\n",
      "https://github.com/matplotlib/matplotlib/blob/v3.5.0/matplotlibrc.template\n",
      "or from the matplotlib source distribution\n",
      "\n",
      "Bad key animation.avconv_path in file C:\\Users\\Omika\\anaconda3\\lib\\site-packages\\matplotlib\\mpl-data\\stylelib\\_classic_test.mplstyle, line 477 ('animation.avconv_path: avconv     # Path to avconv binary. Without full path')\n",
      "You probably need to get an updated matplotlibrc file from\n",
      "https://github.com/matplotlib/matplotlib/blob/v3.5.0/matplotlibrc.template\n",
      "or from the matplotlib source distribution\n",
      "\n",
      "Bad key animation.avconv_args in file C:\\Users\\Omika\\anaconda3\\lib\\site-packages\\matplotlib\\mpl-data\\stylelib\\_classic_test.mplstyle, line 479 ('animation.avconv_args:            # Additional arguments to pass to avconv')\n",
      "You probably need to get an updated matplotlibrc file from\n",
      "https://github.com/matplotlib/matplotlib/blob/v3.5.0/matplotlibrc.template\n",
      "or from the matplotlib source distribution\n"
     ]
    }
   ],
   "source": [
    "import matplotlib\n",
    "matplotlib.use(\"TkAgg\")\n",
    "\n",
    "import pylab as pl\n",
    "import random as rd\n",
    "import scipy as sp\n",
    "\n",
    "rd.seed()\n",
    "\n",
    "width = 100\n",
    "height = 100\n",
    "populationSize = 1000\n",
    "noiseLevel = 1\n",
    "collisionDistance = 2\n",
    "CDsquared = collisionDistance ** 2\n",
    "toBeRemoved = -1\n",
    "\n",
    "def init():\n",
    "    global time, free, fixed\n",
    "    \n",
    "    time = 0\n",
    "    \n",
    "    free = []\n",
    "    for i in range(populationSize-1):\n",
    "        free.append([rd.uniform(0, width), rd.uniform(0, height)])\n",
    "    \n",
    "    fixed = []\n",
    "    fixed.append([width / 2, height / 2])\n",
    "    \n",
    "def draw():\n",
    "    pl.cla()\n",
    "    if free != []:\n",
    "        x = [ag[0] for ag in free]\n",
    "        y = [ag[1] for ag in free]\n",
    "        pl.scatter(x, y, color=\"cyan\")\n",
    "    if fixed != []:\n",
    "        x = [ag[0] for ag in fixed]\n",
    "        y = [ag[1] for ag in fixed]\n",
    "        pl.scatter(x, y, color = \"blue\")\n",
    "    pl.axis(\"scaled\")\n",
    "    pl.axis([0, width, 0, height])\n",
    "    pl.title(\"t = \" + str(time))\n",
    "    \n",
    "def clip(a, amin, amax):\n",
    "    if a < amin:\n",
    "        return amin\n",
    "    if a > amax:\n",
    "        return amax\n",
    "    else:\n",
    "        return a\n",
    "\n",
    "def step():\n",
    "    global time, free, fixed\n",
    "    \n",
    "    time += 1\n",
    "    \n",
    "    #simulate random motion\n",
    "    for ag in free:\n",
    "        ag[0] += rd.gauss(0, noiseLevel)\n",
    "        ag[1] += rd.gauss(0, noiseLevel)\n",
    "        ag[0] = clip(ag[0], 0, width)\n",
    "        ag[1] = clip(ag[1], 0, height)\n",
    "        \n",
    "    #detect collision and change state\n",
    "    for i in range(len(free)):\n",
    "        for j in range(len(fixed)):\n",
    "            if (free[i][0] - fixed[j][0])**2 + (free[i][1] - fixed[j][1])**2 < CDsquared:\n",
    "                fixed.append(free[i])\n",
    "                free[i] = toBeRemoved\n",
    "                break\n",
    "    \n",
    "    #remove \"toBeRemoved\" free particles\n",
    "    while toBeRemoved in free:\n",
    "        free.remove(toBeRemoved)"
   ]
  },
  {
   "cell_type": "code",
   "execution_count": 2,
   "id": "57757099",
   "metadata": {},
   "outputs": [
    {
     "name": "stderr",
     "output_type": "stream",
     "text": [
      "C:\\Users\\Omika\\anaconda3\\lib\\site-packages\\ipykernel\\eventloops.py:256: RuntimeWarning: coroutine 'Kernel.do_one_iteration' was never awaited\n",
      "  self.func()\n",
      "RuntimeWarning: Enable tracemalloc to get the object allocation traceback\n"
     ]
    }
   ],
   "source": [
    "import pycxsimulator\n",
    "pycxsimulator.GUI().start(func=[init, draw, step])"
   ]
  }
 ],
 "metadata": {
  "@webio": {
   "lastCommId": null,
   "lastKernelId": null
  },
  "kernelspec": {
   "display_name": "Python 3 (ipykernel)",
   "language": "python",
   "name": "python3"
  },
  "language_info": {
   "codemirror_mode": {
    "name": "ipython",
    "version": 3
   },
   "file_extension": ".py",
   "mimetype": "text/x-python",
   "name": "python",
   "nbconvert_exporter": "python",
   "pygments_lexer": "ipython3",
   "version": "3.8.12"
  }
 },
 "nbformat": 4,
 "nbformat_minor": 5
}
